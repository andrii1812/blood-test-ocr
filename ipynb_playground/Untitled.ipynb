{
 "cells": [
  {
   "cell_type": "code",
   "execution_count": null,
   "metadata": {},
   "outputs": [],
   "source": [
    "from PIL import Image\n",
    "from pprint import pprint\n",
    "import re\n",
    "import pyocr\n",
    "import pyocr.builders\n",
    "import Levenshtein as lev"
   ]
  },
  {
   "cell_type": "code",
   "execution_count": 3,
   "metadata": {},
   "outputs": [
    {
     "name": "stdout",
     "output_type": "stream",
     "text": [
      "<module 'pyocr.tesseract' from '/usr/local/lib/python3.5/dist-packages/pyocr/tesseract.py'>\n"
     ]
    }
   ],
   "source": [
    "tools = pyocr.get_available_tools()\n",
    "assert len(tools) > 0\n",
    "tool = tools[0]\n",
    "print(tool)"
   ]
  },
  {
   "cell_type": "code",
   "execution_count": null,
   "metadata": {},
   "outputs": [],
   "source": [
    "#'IMG_20180710_170326.jpg' - 10.07.2018 general\n",
    "#'IMG_20180710_175215.jpg' - 9.07.2018 general\n",
    "#'IMG_20180714_132310.jpg' - 13.07.2018 additional"
   ]
  },
  {
   "cell_type": "code",
   "execution_count": 82,
   "metadata": {},
   "outputs": [],
   "source": [
    "DATE_REGEX = '(\\d{2}\\.\\d{2}\\.\\d{4})'\n",
    "SIGNATURE_TEXT = 'UZM DR. Naile Fevziye MISIRLIOĞLU'\n",
    "SIGNATURE_TEXT_THRESHOLD = 4\n",
    "JUNK_WORDS = ['L', 'H', '#', '%', u'Miliyon/μL', 'g/dL', 'Bin/μL', 'mEq/L']\n",
    "JUNK_WORD_THRESHOLD = 2\n",
    "MARGIN = 10"
   ]
  },
  {
   "cell_type": "code",
   "execution_count": 87,
   "metadata": {},
   "outputs": [],
   "source": [
    "def get_lines_bounding_boxes(image):    \n",
    "    grayscale = image.convert('L')\n",
    "    return tool.image_to_string(\n",
    "        grayscale,\n",
    "        lang=\"tur\",\n",
    "        builder=pyocr.builders.LineBoxBuilder()\n",
    "    )\n",
    "\n",
    "def is_float(text):\n",
    "    try:\n",
    "        float(text)\n",
    "        return True\n",
    "    except ValueError:\n",
    "        return False\n",
    "\n",
    "def test_for_regex(boxes, regex):\n",
    "    for box in boxes:\n",
    "        m = re.match(regex, box.content)\n",
    "        if m:\n",
    "            return box\n",
    "        \n",
    "def get_date(boxes):\n",
    "    return test_for_regex(boxes, DATE_REGEX)\n",
    "  \n",
    "def find_line_with_text(text, lines):\n",
    "    for i, line in enumerate(lines):\n",
    "        for word_box in line.word_boxes:\n",
    "            if word_box.content == text:\n",
    "                return i, line\n",
    "\n",
    "def clean_empty_lines(lines):\n",
    "    for line in lines:\n",
    "        if not line.content == '':\n",
    "            yield line\n",
    "            \n",
    "def clean_signature(lines):\n",
    "    for line in lines:\n",
    "        if lev.distance(line.content, SIGNATURE_TEXT) > SIGNATURE_TEXT_THRESHOLD:\n",
    "            yield line\n",
    "            \n",
    "def to_list_of_strings(lines):\n",
    "    for line in lines:\n",
    "        yield [word.content for word in line.word_boxes]\n",
    "        \n",
    "def remove_junk_words(line):\n",
    "    def removing_gen():\n",
    "        for i, word in enumerate(line):\n",
    "            is_junk_word = False\n",
    "            for junk_word in JUNK_WORDS:\n",
    "                if lev.distance(word, junk_word) <= JUNK_WORD_THRESHOLD and i > 0 and not is_float(word):\n",
    "                    is_junk_word = True\n",
    "                    break\n",
    "            if is_junk_word:\n",
    "                continue\n",
    "            yield word\n",
    "        \n",
    "    return list(removing_gen())\n",
    "\n",
    "def join_all_except_last(line):\n",
    "    def join_gen():\n",
    "        last = line[-1]\n",
    "        if is_float(last):            \n",
    "            other = line[:-1]\n",
    "            yield ' '.join(other)\n",
    "            yield last\n",
    "        else:\n",
    "            yield ' '.join(line)\n",
    "        \n",
    "    return list(join_gen())\n",
    "\n",
    "def add_zero_values(line):\n",
    "    if len(line) < 2:\n",
    "        line.append(0.0)\n",
    "    return line"
   ]
  },
  {
   "cell_type": "code",
   "execution_count": 92,
   "metadata": {},
   "outputs": [],
   "source": [
    "image = Image.open('IMG_20180710_170326.jpg')\n",
    "lines = get_lines_bounding_boxes(image)"
   ]
  },
  {
   "cell_type": "code",
   "execution_count": 93,
   "metadata": {},
   "outputs": [
    {
     "name": "stdout",
     "output_type": "stream",
     "text": [
      "10.07.2018\n"
     ]
    }
   ],
   "source": [
    "_, line = find_line_with_text('Onay', lines)\n",
    "date = get_date(line.word_boxes)\n",
    "\n",
    "print(date.content)"
   ]
  },
  {
   "cell_type": "code",
   "execution_count": 94,
   "metadata": {},
   "outputs": [
    {
     "data": {
      "text/plain": [
       "[['RBC—Alyuvarlar', '2.99'],\n",
       " ['Hâlâ—Hemoglobin', '8.8'],\n",
       " ['_li_lÇTıljematokrit', '24.8'],\n",
       " ['_MÇX', '82.9'],\n",
       " ['MÇFL', '29.4'],\n",
       " ['MCHC', '35.5'],\n",
       " ['RDW—SD', '37.2'],\n",
       " ['RDW', '12.3'],\n",
       " ['WBC-Akyuvarlar', '5.55'],\n",
       " ['Nötrofil', '84.1'],\n",
       " ['Lenfosit', '13.7'],\n",
       " ['Monosit 1_3', 0.0],\n",
       " ['Eozinofil', '0.0'],\n",
       " ['Bazofil', '0.9'],\n",
       " ['Nötrofil', '4.67'],\n",
       " ['Lenfosit', '0.76'],\n",
       " ['Monosit', '0.07'],\n",
       " ['Eozinofil', '0.00'],\n",
       " ['Bazofil', '0.05'],\n",
       " ['PLT-Trombosit', '98'],\n",
       " ['MPV', '10.2'],\n",
       " ['PDW', '12.0'],\n",
       " ['PCT', '0.10']]"
      ]
     },
     "execution_count": 94,
     "metadata": {},
     "output_type": "execute_result"
    }
   ],
   "source": [
    "index, line = find_line_with_text('TESTLER', lines)\n",
    "blood_values_lines = lines[index + 1:]\n",
    "blood_values_lines = clean_empty_lines(blood_values_lines)\n",
    "blood_values_lines = clean_signature(blood_values_lines)\n",
    "blood_values_lines = to_list_of_strings(blood_values_lines)\n",
    "blood_values_lines = [remove_junk_words(line) for line in blood_values_lines]\n",
    "blood_values_lines = [join_all_except_last(line) for line in blood_values_lines]\n",
    "blood_values_lines = [add_zero_values(line) for line in blood_values_lines]\n",
    "list(blood_values_lines)"
   ]
  }
 ],
 "metadata": {
  "kernelspec": {
   "display_name": "Python 3",
   "language": "python",
   "name": "python3"
  },
  "language_info": {
   "codemirror_mode": {
    "name": "ipython",
    "version": 3.0
   },
   "file_extension": ".py",
   "mimetype": "text/x-python",
   "name": "python",
   "nbconvert_exporter": "python",
   "pygments_lexer": "ipython3",
   "version": "3.5.3"
  }
 },
 "nbformat": 4,
 "nbformat_minor": 0
}